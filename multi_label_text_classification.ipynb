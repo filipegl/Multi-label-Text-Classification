{
  "nbformat": 4,
  "nbformat_minor": 0,
  "metadata": {
    "orig_nbformat": 2,
    "kernelspec": {
      "name": "python3",
      "display_name": "Python 3"
    },
    "colab": {
      "name": "multi-label-text-classification.ipynb",
      "provenance": [],
      "toc_visible": true,
      "include_colab_link": true
    }
  },
  "cells": [
    {
      "cell_type": "markdown",
      "metadata": {
        "id": "view-in-github",
        "colab_type": "text"
      },
      "source": [
        "<a href=\"https://colab.research.google.com/github/filipegl/Multi-label-Text-Classification/blob/master/multi_label_text_classification.ipynb\" target=\"_parent\"><img src=\"https://colab.research.google.com/assets/colab-badge.svg\" alt=\"Open In Colab\"/></a>"
      ]
    },
    {
      "cell_type": "markdown",
      "metadata": {
        "id": "Ur06nrxmC3rv",
        "colab_type": "text"
      },
      "source": [
        "# Download data\n",
        "Download the **Comma Separated Values File** [here](https://catalog.data.gov/dataset/consumer-complaint-database) and unzip.\\\n",
        "We will use this data to predict a product from a consumer complaint"
      ]
    },
    {
      "cell_type": "code",
      "metadata": {
        "id": "921Ess0IC3rx",
        "colab_type": "code",
        "colab": {}
      },
      "source": [
        "# Imports\n",
        "\n",
        "import pandas as pd\n",
        "import matplotlib.pyplot as plt\n",
        "from sklearn.feature_extraction.text import TfidfVectorizer\n",
        "from sklearn.feature_extraction.text import TfidfTransformer\n",
        "from sklearn.model_selection import train_test_split\n",
        "from sklearn.feature_extraction.text import CountVectorizer\n",
        "from sklearn.naive_bayes import MultinomialNB\n",
        "from sklearn.svm import LinearSVC\n",
        "from sklearn import metrics\n",
        "from sklearn.feature_selection import chi2\n",
        "from sklearn.model_selection import cross_val_score\n",
        "import numpy as np"
      ],
      "execution_count": 0,
      "outputs": []
    },
    {
      "cell_type": "code",
      "metadata": {
        "id": "Uvb5rOHRE_G7",
        "colab_type": "code",
        "outputId": "f4ba364c-b4de-49fa-c3ec-f26453241c3c",
        "colab": {
          "base_uri": "https://localhost:8080/",
          "height": 124
        }
      },
      "source": [
        "from google.colab import drive\n",
        "drive.mount('/content/drive')"
      ],
      "execution_count": 2,
      "outputs": [
        {
          "output_type": "stream",
          "text": [
            "Go to this URL in a browser: https://accounts.google.com/o/oauth2/auth?client_id=947318989803-6bn6qk8qdgf4n4g3pfee6491hc0brc4i.apps.googleusercontent.com&redirect_uri=urn%3aietf%3awg%3aoauth%3a2.0%3aoob&response_type=code&scope=email%20https%3a%2f%2fwww.googleapis.com%2fauth%2fdocs.test%20https%3a%2f%2fwww.googleapis.com%2fauth%2fdrive%20https%3a%2f%2fwww.googleapis.com%2fauth%2fdrive.photos.readonly%20https%3a%2f%2fwww.googleapis.com%2fauth%2fpeopleapi.readonly\n",
            "\n",
            "Enter your authorization code:\n",
            "··········\n",
            "Mounted at /content/drive\n"
          ],
          "name": "stdout"
        }
      ]
    },
    {
      "cell_type": "code",
      "metadata": {
        "id": "rcU60456C3r9",
        "colab_type": "code",
        "outputId": "c6a1901b-6968-4c1f-fd7c-c97196553553",
        "colab": {
          "base_uri": "https://localhost:8080/",
          "height": 476
        }
      },
      "source": [
        "# Change to your location\n",
        "df = pd.read_csv('drive/My Drive/Colab Notebooks/complaints.csv')\n",
        "print(df.shape)\n",
        "df.head(3)"
      ],
      "execution_count": 3,
      "outputs": [
        {
          "output_type": "stream",
          "text": [
            "(1608094, 18)\n"
          ],
          "name": "stdout"
        },
        {
          "output_type": "execute_result",
          "data": {
            "text/html": [
              "<div>\n",
              "<style scoped>\n",
              "    .dataframe tbody tr th:only-of-type {\n",
              "        vertical-align: middle;\n",
              "    }\n",
              "\n",
              "    .dataframe tbody tr th {\n",
              "        vertical-align: top;\n",
              "    }\n",
              "\n",
              "    .dataframe thead th {\n",
              "        text-align: right;\n",
              "    }\n",
              "</style>\n",
              "<table border=\"1\" class=\"dataframe\">\n",
              "  <thead>\n",
              "    <tr style=\"text-align: right;\">\n",
              "      <th></th>\n",
              "      <th>Date received</th>\n",
              "      <th>Product</th>\n",
              "      <th>Sub-product</th>\n",
              "      <th>Issue</th>\n",
              "      <th>Sub-issue</th>\n",
              "      <th>Consumer complaint narrative</th>\n",
              "      <th>Company public response</th>\n",
              "      <th>Company</th>\n",
              "      <th>State</th>\n",
              "      <th>ZIP code</th>\n",
              "      <th>Tags</th>\n",
              "      <th>Consumer consent provided?</th>\n",
              "      <th>Submitted via</th>\n",
              "      <th>Date sent to company</th>\n",
              "      <th>Company response to consumer</th>\n",
              "      <th>Timely response?</th>\n",
              "      <th>Consumer disputed?</th>\n",
              "      <th>Complaint ID</th>\n",
              "    </tr>\n",
              "  </thead>\n",
              "  <tbody>\n",
              "    <tr>\n",
              "      <th>0</th>\n",
              "      <td>2019-09-24</td>\n",
              "      <td>Debt collection</td>\n",
              "      <td>I do not know</td>\n",
              "      <td>Attempts to collect debt not owed</td>\n",
              "      <td>Debt is not yours</td>\n",
              "      <td>transworld systems inc. \\nis trying to collect...</td>\n",
              "      <td>NaN</td>\n",
              "      <td>TRANSWORLD SYSTEMS INC</td>\n",
              "      <td>FL</td>\n",
              "      <td>335XX</td>\n",
              "      <td>NaN</td>\n",
              "      <td>Consent provided</td>\n",
              "      <td>Web</td>\n",
              "      <td>2019-09-24</td>\n",
              "      <td>Closed with explanation</td>\n",
              "      <td>Yes</td>\n",
              "      <td>NaN</td>\n",
              "      <td>3384392</td>\n",
              "    </tr>\n",
              "    <tr>\n",
              "      <th>1</th>\n",
              "      <td>2019-09-19</td>\n",
              "      <td>Credit reporting, credit repair services, or o...</td>\n",
              "      <td>Credit reporting</td>\n",
              "      <td>Incorrect information on your report</td>\n",
              "      <td>Information belongs to someone else</td>\n",
              "      <td>NaN</td>\n",
              "      <td>Company has responded to the consumer and the ...</td>\n",
              "      <td>Experian Information Solutions Inc.</td>\n",
              "      <td>PA</td>\n",
              "      <td>15206</td>\n",
              "      <td>NaN</td>\n",
              "      <td>Consent not provided</td>\n",
              "      <td>Web</td>\n",
              "      <td>2019-09-20</td>\n",
              "      <td>Closed with non-monetary relief</td>\n",
              "      <td>Yes</td>\n",
              "      <td>NaN</td>\n",
              "      <td>3379500</td>\n",
              "    </tr>\n",
              "    <tr>\n",
              "      <th>2</th>\n",
              "      <td>2019-10-25</td>\n",
              "      <td>Credit reporting, credit repair services, or o...</td>\n",
              "      <td>Credit reporting</td>\n",
              "      <td>Incorrect information on your report</td>\n",
              "      <td>Information belongs to someone else</td>\n",
              "      <td>I would like to request the suppression of the...</td>\n",
              "      <td>Company has responded to the consumer and the ...</td>\n",
              "      <td>TRANSUNION INTERMEDIATE HOLDINGS, INC.</td>\n",
              "      <td>CA</td>\n",
              "      <td>937XX</td>\n",
              "      <td>NaN</td>\n",
              "      <td>Consent provided</td>\n",
              "      <td>Web</td>\n",
              "      <td>2019-10-25</td>\n",
              "      <td>Closed with explanation</td>\n",
              "      <td>Yes</td>\n",
              "      <td>NaN</td>\n",
              "      <td>3417821</td>\n",
              "    </tr>\n",
              "  </tbody>\n",
              "</table>\n",
              "</div>"
            ],
            "text/plain": [
              "  Date received  ... Complaint ID\n",
              "0    2019-09-24  ...      3384392\n",
              "1    2019-09-19  ...      3379500\n",
              "2    2019-10-25  ...      3417821\n",
              "\n",
              "[3 rows x 18 columns]"
            ]
          },
          "metadata": {
            "tags": []
          },
          "execution_count": 3
        }
      ]
    },
    {
      "cell_type": "markdown",
      "metadata": {
        "id": "CzfRoRGFtcVs",
        "colab_type": "text"
      },
      "source": [
        "## Cleaning data"
      ]
    },
    {
      "cell_type": "code",
      "metadata": {
        "id": "o6oK5O4CC3sP",
        "colab_type": "code",
        "outputId": "b4f74ae0-c89f-47c4-ac67-cdf212ca4512",
        "colab": {
          "base_uri": "https://localhost:8080/",
          "height": 424
        }
      },
      "source": [
        "# Restrict the table with only two columns: 'Product' and 'Consumer complaint narrative'\n",
        "df = df[['Product', 'Consumer complaint narrative']]\n",
        "# Remove NaN values\n",
        "df = df[pd.notnull(df['Consumer complaint narrative'])]\n",
        "# Creates a new column called 'category_id' whose takes a unique id per product. The factorize() is responsable for transform these products into ids\n",
        "df['category_id'] = df['Product'].factorize()[0]\n",
        "df"
      ],
      "execution_count": 4,
      "outputs": [
        {
          "output_type": "execute_result",
          "data": {
            "text/html": [
              "<div>\n",
              "<style scoped>\n",
              "    .dataframe tbody tr th:only-of-type {\n",
              "        vertical-align: middle;\n",
              "    }\n",
              "\n",
              "    .dataframe tbody tr th {\n",
              "        vertical-align: top;\n",
              "    }\n",
              "\n",
              "    .dataframe thead th {\n",
              "        text-align: right;\n",
              "    }\n",
              "</style>\n",
              "<table border=\"1\" class=\"dataframe\">\n",
              "  <thead>\n",
              "    <tr style=\"text-align: right;\">\n",
              "      <th></th>\n",
              "      <th>Product</th>\n",
              "      <th>Consumer complaint narrative</th>\n",
              "      <th>category_id</th>\n",
              "    </tr>\n",
              "  </thead>\n",
              "  <tbody>\n",
              "    <tr>\n",
              "      <th>0</th>\n",
              "      <td>Debt collection</td>\n",
              "      <td>transworld systems inc. \\nis trying to collect...</td>\n",
              "      <td>0</td>\n",
              "    </tr>\n",
              "    <tr>\n",
              "      <th>2</th>\n",
              "      <td>Credit reporting, credit repair services, or o...</td>\n",
              "      <td>I would like to request the suppression of the...</td>\n",
              "      <td>1</td>\n",
              "    </tr>\n",
              "    <tr>\n",
              "      <th>3</th>\n",
              "      <td>Debt collection</td>\n",
              "      <td>Over the past 2 weeks, I have been receiving e...</td>\n",
              "      <td>0</td>\n",
              "    </tr>\n",
              "    <tr>\n",
              "      <th>11</th>\n",
              "      <td>Money transfer, virtual currency, or money ser...</td>\n",
              "      <td>I was sold access to an event digitally, of wh...</td>\n",
              "      <td>2</td>\n",
              "    </tr>\n",
              "    <tr>\n",
              "      <th>12</th>\n",
              "      <td>Debt collection</td>\n",
              "      <td>While checking my credit report I noticed thre...</td>\n",
              "      <td>0</td>\n",
              "    </tr>\n",
              "    <tr>\n",
              "      <th>...</th>\n",
              "      <td>...</td>\n",
              "      <td>...</td>\n",
              "      <td>...</td>\n",
              "    </tr>\n",
              "    <tr>\n",
              "      <th>1608089</th>\n",
              "      <td>Consumer Loan</td>\n",
              "      <td>I was on automatic payment for my car loan. In...</td>\n",
              "      <td>10</td>\n",
              "    </tr>\n",
              "    <tr>\n",
              "      <th>1608090</th>\n",
              "      <td>Debt collection</td>\n",
              "      <td>I recieved a collections call from an unknown ...</td>\n",
              "      <td>0</td>\n",
              "    </tr>\n",
              "    <tr>\n",
              "      <th>1608091</th>\n",
              "      <td>Mortgage</td>\n",
              "      <td>On XXXX XXXX, 2015, I contacted XXXX XXXX, who...</td>\n",
              "      <td>3</td>\n",
              "    </tr>\n",
              "    <tr>\n",
              "      <th>1608092</th>\n",
              "      <td>Mortgage</td>\n",
              "      <td>I can not get from chase who services my mortg...</td>\n",
              "      <td>3</td>\n",
              "    </tr>\n",
              "    <tr>\n",
              "      <th>1608093</th>\n",
              "      <td>Credit card</td>\n",
              "      <td>I made a payment to CITI XXXX Credit Card on X...</td>\n",
              "      <td>9</td>\n",
              "    </tr>\n",
              "  </tbody>\n",
              "</table>\n",
              "<p>535060 rows × 3 columns</p>\n",
              "</div>"
            ],
            "text/plain": [
              "                                                   Product  ... category_id\n",
              "0                                          Debt collection  ...           0\n",
              "2        Credit reporting, credit repair services, or o...  ...           1\n",
              "3                                          Debt collection  ...           0\n",
              "11       Money transfer, virtual currency, or money ser...  ...           2\n",
              "12                                         Debt collection  ...           0\n",
              "...                                                    ...  ...         ...\n",
              "1608089                                      Consumer Loan  ...          10\n",
              "1608090                                    Debt collection  ...           0\n",
              "1608091                                           Mortgage  ...           3\n",
              "1608092                                           Mortgage  ...           3\n",
              "1608093                                        Credit card  ...           9\n",
              "\n",
              "[535060 rows x 3 columns]"
            ]
          },
          "metadata": {
            "tags": []
          },
          "execution_count": 4
        }
      ]
    },
    {
      "cell_type": "code",
      "metadata": {
        "id": "9X2rylL5C3sY",
        "colab_type": "code",
        "colab": {
          "base_uri": "https://localhost:8080/",
          "height": 390
        },
        "outputId": "614a49c1-77f8-46c6-8efb-11fb404c06d8"
      },
      "source": [
        "# Remove all duplicate products and sort by id.\n",
        "category_id_df = df[['Product', 'category_id']].drop_duplicates().sort_values('category_id')\n",
        "\n",
        "# plot graphic\n",
        "df.groupby('Product')['Consumer complaint narrative'].count().plot(kind='barh', title='Product frequency', figsize=(8,6))\n",
        "plt.show()"
      ],
      "execution_count": 7,
      "outputs": [
        {
          "output_type": "display_data",
          "data": {
            "image/png": "[encoded data removed]",
            "text/plain": [
              "<Figure size 576x432 with 1 Axes>"
            ]
          },
          "metadata": {
            "tags": [],
            "needs_background": "light"
          }
        }
      ]
    },
    {
      "cell_type": "markdown",
      "metadata": {
        "id": "TReC0JZYt01X",
        "colab_type": "text"
      },
      "source": [
        "## TF-IDF"
      ]
    },
    {
      "cell_type": "code",
      "metadata": {
        "id": "DtQuknMDlsb5",
        "colab_type": "code",
        "outputId": "245c22b9-cdf8-42ca-dc6b-f149c1bee546",
        "colab": {
          "base_uri": "https://localhost:8080/",
          "height": 34
        }
      },
      "source": [
        "# Convert the 'consumer complaint narrative' to a matrix of TF-IDF features.\n",
        "tfidf = TfidfVectorizer(sublinear_tf=True, min_df=5, encoding='latin-1', ngram_range=(1, 2), stop_words='english')\n",
        "features = tfidf.fit_transform(df['Consumer complaint narrative'])\n",
        "features.shape"
      ],
      "execution_count": 9,
      "outputs": [
        {
          "output_type": "execute_result",
          "data": {
            "text/plain": [
              "(535060, 919283)"
            ]
          },
          "metadata": {
            "tags": []
          },
          "execution_count": 9
        }
      ]
    },
    {
      "cell_type": "markdown",
      "metadata": {
        "id": "0haugWSc2mmc",
        "colab_type": "text"
      },
      "source": [
        "## Most correlated unigrams and bigrams of each product\n",
        "We will use statistics methods like [chi-squared](https://en.wikipedia.org/wiki/Chi-squared_test)"
      ]
    },
    {
      "cell_type": "code",
      "metadata": {
        "id": "BI-9AVo9lOZa",
        "colab_type": "code",
        "outputId": "26c25e3a-5a07-406a-c3e8-e015efc23cd8",
        "colab": {
          "base_uri": "https://localhost:8080/",
          "height": 1000
        }
      },
      "source": [
        "# category_to_id is a dict {product: id}\n",
        "category_to_id = dict(category_id_df.values)\n",
        "# id_to_category is a dict {id: product}\n",
        "id_to_category = dict(category_id_df[['category_id', 'Product']].values)\n",
        "\n",
        "labels = df['category_id']\n",
        "\n",
        "# a for loop on all products and their respective ids, in order\n",
        "for Product, category_id in sorted(category_to_id.items()):\n",
        "  # chi2 computes chi-squared (χ²) statistics.\n",
        "  # This score will be used to select the n_features with the highest values for\n",
        "  # the test chi-squared statistic.\n",
        "  features_chi2 = chi2(features, labels == category_id)\n",
        "  # np.argsort returns the indices of a sorted features\n",
        "  indices = np.argsort(features_chi2[0])\n",
        "  # transform the tfidf numbers into words\n",
        "  feature_names = np.array(tfidf.get_feature_names())[indices]\n",
        "\n",
        "  # get unigrams and bigrams from feature_names\n",
        "  unigrams = [e for e in feature_names if len(e.split(' ')) == 1]\n",
        "  bigrams = [e for e in feature_names if len(e.split(' ')) == 2]\n",
        "\n",
        "  print(\"# '{}':\".format(Product))\n",
        "  print(\"  - Most correlated unigrams:\\n-------> {}\".format('\\n-------> '.join(unigrams[-2:])))\n",
        "  print('~~~~~~~~~~~~~~')\n",
        "  print(\"  - Most correlated bigrams:\\n-------> {}\".format('\\n-------> '.join(bigrams[-2:])))\n",
        "  print('=============================')"
      ],
      "execution_count": 37,
      "outputs": [
        {
          "output_type": "stream",
          "text": [
            "# 'Bank account or service':\n",
            "  - Most correlated unigrams:\n",
            "-------> bank\n",
            "-------> overdraft\n",
            "~~~~~~~~~~~~~~\n",
            "  - Most correlated bigrams:\n",
            "-------> overdraft fees\n",
            "-------> checking account\n",
            "=============================\n",
            "# 'Checking or savings account':\n",
            "  - Most correlated unigrams:\n",
            "-------> branch\n",
            "-------> deposit\n",
            "~~~~~~~~~~~~~~\n",
            "  - Most correlated bigrams:\n",
            "-------> savings account\n",
            "-------> checking account\n",
            "=============================\n",
            "# 'Consumer Loan':\n",
            "  - Most correlated unigrams:\n",
            "-------> vehicle\n",
            "-------> car\n",
            "~~~~~~~~~~~~~~\n",
            "  - Most correlated bigrams:\n",
            "-------> drive time\n",
            "-------> auto loan\n",
            "=============================\n",
            "# 'Credit card':\n",
            "  - Most correlated unigrams:\n",
            "-------> macy\n",
            "-------> card\n",
            "~~~~~~~~~~~~~~\n",
            "  - Most correlated bigrams:\n",
            "-------> american express\n",
            "-------> credit card\n",
            "=============================\n",
            "# 'Credit card or prepaid card':\n",
            "  - Most correlated unigrams:\n",
            "-------> express\n",
            "-------> card\n",
            "~~~~~~~~~~~~~~\n",
            "  - Most correlated bigrams:\n",
            "-------> american express\n",
            "-------> credit card\n",
            "=============================\n",
            "# 'Credit reporting':\n",
            "  - Most correlated unigrams:\n",
            "-------> experian\n",
            "-------> equifax\n",
            "~~~~~~~~~~~~~~\n",
            "  - Most correlated bigrams:\n",
            "-------> disputed resolve\n",
            "-------> manner soon\n",
            "=============================\n",
            "# 'Credit reporting, credit repair services, or other personal consumer reports':\n",
            "  - Most correlated unigrams:\n",
            "-------> inquiries\n",
            "-------> report\n",
            "~~~~~~~~~~~~~~\n",
            "  - Most correlated bigrams:\n",
            "-------> identity theft\n",
            "-------> credit report\n",
            "=============================\n",
            "# 'Debt collection':\n",
            "  - Most correlated unigrams:\n",
            "-------> collection\n",
            "-------> debt\n",
            "~~~~~~~~~~~~~~\n",
            "  - Most correlated bigrams:\n",
            "-------> collection agency\n",
            "-------> collect debt\n",
            "=============================\n",
            "# 'Money transfer, virtual currency, or money service':\n",
            "  - Most correlated unigrams:\n",
            "-------> paypal\n",
            "-------> coinbase\n",
            "~~~~~~~~~~~~~~\n",
            "  - Most correlated bigrams:\n",
            "-------> xxxx coinbase\n",
            "-------> coinbase account\n",
            "=============================\n",
            "# 'Money transfers':\n",
            "  - Most correlated unigrams:\n",
            "-------> moneygram\n",
            "-------> western\n",
            "~~~~~~~~~~~~~~\n",
            "  - Most correlated bigrams:\n",
            "-------> money gram\n",
            "-------> western union\n",
            "=============================\n",
            "# 'Mortgage':\n",
            "  - Most correlated unigrams:\n",
            "-------> modification\n",
            "-------> mortgage\n",
            "~~~~~~~~~~~~~~\n",
            "  - Most correlated bigrams:\n",
            "-------> mortgage company\n",
            "-------> loan modification\n",
            "=============================\n",
            "# 'Other financial service':\n",
            "  - Most correlated unigrams:\n",
            "-------> fedloanhelp\n",
            "-------> lexington\n",
            "~~~~~~~~~~~~~~\n",
            "  - Most correlated bigrams:\n",
            "-------> global client\n",
            "-------> lexington law\n",
            "=============================\n",
            "# 'Payday loan':\n",
            "  - Most correlated unigrams:\n",
            "-------> castle\n",
            "-------> payday\n",
            "~~~~~~~~~~~~~~\n",
            "  - Most correlated bigrams:\n",
            "-------> castle payday\n",
            "-------> payday loan\n",
            "=============================\n",
            "# 'Payday loan, title loan, or personal loan':\n",
            "  - Most correlated unigrams:\n",
            "-------> borrowed\n",
            "-------> payday\n",
            "~~~~~~~~~~~~~~\n",
            "  - Most correlated bigrams:\n",
            "-------> 00 loan\n",
            "-------> title loan\n",
            "=============================\n",
            "# 'Prepaid card':\n",
            "  - Most correlated unigrams:\n",
            "-------> rush\n",
            "-------> rushcard\n",
            "~~~~~~~~~~~~~~\n",
            "  - Most correlated bigrams:\n",
            "-------> prepaid card\n",
            "-------> rush card\n",
            "=============================\n",
            "# 'Student loan':\n",
            "  - Most correlated unigrams:\n",
            "-------> loans\n",
            "-------> navient\n",
            "~~~~~~~~~~~~~~\n",
            "  - Most correlated bigrams:\n",
            "-------> student loans\n",
            "-------> student loan\n",
            "=============================\n",
            "# 'Vehicle loan or lease':\n",
            "  - Most correlated unigrams:\n",
            "-------> vehicle\n",
            "-------> car\n",
            "~~~~~~~~~~~~~~\n",
            "  - Most correlated bigrams:\n",
            "-------> credit acceptance\n",
            "-------> gm financial\n",
            "=============================\n",
            "# 'Virtual currency':\n",
            "  - Most correlated unigrams:\n",
            "-------> fincen\n",
            "-------> signup\n",
            "~~~~~~~~~~~~~~\n",
            "  - Most correlated bigrams:\n",
            "-------> met fully\n",
            "-------> signed 75\n",
            "=============================\n"
          ],
          "name": "stdout"
        }
      ]
    },
    {
      "cell_type": "markdown",
      "metadata": {
        "id": "kflaeAkMDwy_",
        "colab_type": "text"
      },
      "source": [
        "## Training the **Linear Support Vector Classification** model"
      ]
    },
    {
      "cell_type": "code",
      "metadata": {
        "id": "6Ai0_Pv5Dhip",
        "colab_type": "code",
        "colab": {}
      },
      "source": [
        "# split features and labels\n",
        "X_train, X_test, y_train, y_test = train_test_split(features, labels, random_state = 41)"
      ],
      "execution_count": 0,
      "outputs": []
    },
    {
      "cell_type": "code",
      "metadata": {
        "id": "4WY0dZbhqV62",
        "colab_type": "code",
        "outputId": "3c5cacc0-c709-4c02-b8f8-1e790a6caba5",
        "colab": {
          "base_uri": "https://localhost:8080/",
          "height": 86
        }
      },
      "source": [
        "# fit the model with feature x and label y\n",
        "model = LinearSVC()\n",
        "model.fit(X_train, y_train)"
      ],
      "execution_count": 39,
      "outputs": [
        {
          "output_type": "execute_result",
          "data": {
            "text/plain": [
              "LinearSVC(C=1.0, class_weight=None, dual=True, fit_intercept=True,\n",
              "          intercept_scaling=1, loss='squared_hinge', max_iter=1000,\n",
              "          multi_class='ovr', penalty='l2', random_state=None, tol=0.0001,\n",
              "          verbose=0)"
            ]
          },
          "metadata": {
            "tags": []
          },
          "execution_count": 39
        }
      ]
    },
    {
      "cell_type": "code",
      "metadata": {
        "id": "Mtn447nJqjUh",
        "colab_type": "code",
        "outputId": "3e6547ad-92d6-4a32-d00e-a9d1544f4822",
        "colab": {
          "base_uri": "https://localhost:8080/",
          "height": 451
        }
      },
      "source": [
        "# show the classification report for each produtc\n",
        "y_pred = model.predict(X_test)\n",
        "print(metrics.classification_report(y_test, y_pred, target_names=df['Product'].unique()))"
      ],
      "execution_count": 40,
      "outputs": [
        {
          "output_type": "stream",
          "text": [
            "                                                                              precision    recall  f1-score   support\n",
            "\n",
            "                                                             Debt collection       0.83      0.87      0.85     28470\n",
            "Credit reporting, credit repair services, or other personal consumer reports       0.84      0.90      0.87     42013\n",
            "                          Money transfer, virtual currency, or money service       0.75      0.71      0.73      2204\n",
            "                                                                    Mortgage       0.91      0.95      0.93     16211\n",
            "                                                                Student loan       0.88      0.88      0.88      6502\n",
            "                                                 Credit card or prepaid card       0.67      0.73      0.70      9124\n",
            "                                   Payday loan, title loan, or personal loan       0.62      0.41      0.50      1856\n",
            "                                                 Checking or savings account       0.67      0.73      0.70      5182\n",
            "                                                       Vehicle loan or lease       0.63      0.52      0.57      2262\n",
            "                                                                 Credit card       0.62      0.47      0.54      4757\n",
            "                                                               Consumer Loan       0.57      0.35      0.44      2346\n",
            "                                                                 Payday loan       0.57      0.21      0.31       426\n",
            "                                                     Bank account or service       0.64      0.51      0.57      3734\n",
            "                                                            Credit reporting       0.76      0.53      0.63      7875\n",
            "                                                     Other financial service       1.00      0.03      0.05        79\n",
            "                                                             Money transfers       0.64      0.23      0.34       354\n",
            "                                                                Prepaid card       0.73      0.46      0.57       366\n",
            "                                                            Virtual currency       1.00      0.25      0.40         4\n",
            "\n",
            "                                                                    accuracy                           0.80    133765\n",
            "                                                                   macro avg       0.74      0.54      0.59    133765\n",
            "                                                                weighted avg       0.80      0.80      0.80    133765\n",
            "\n"
          ],
          "name": "stdout"
        }
      ]
    },
    {
      "cell_type": "markdown",
      "metadata": {
        "id": "yQBuWbYcH2DY",
        "colab_type": "text"
      },
      "source": [
        "## Most correlated unigrams and bigrams of each product\n",
        "But now we will use the model to get the informations\n",
        "\n"
      ]
    },
    {
      "cell_type": "code",
      "metadata": {
        "id": "SdmP7gskrkYR",
        "colab_type": "code",
        "outputId": "323fb81b-2ba5-40a7-fa6d-ec5121b3971f",
        "colab": {
          "base_uri": "https://localhost:8080/",
          "height": 1000
        }
      },
      "source": [
        "model.fit(features, labels)\n",
        "\n",
        "for Product, category_id in sorted(category_to_id.items()):\n",
        "  indices = np.argsort(model.coef_[category_id])\n",
        "  feature_names = np.array(tfidf.get_feature_names())[indices]\n",
        "\n",
        "  unigrams = [v for v in reversed(feature_names) if len(v.split(' ')) == 1][:2]\n",
        "  bigrams = [v for v in reversed(feature_names) if len(v.split(' ')) == 2][:2]\n",
        "\n",
        "  print(\"# '{}':\".format(Product))\n",
        "  print(\"  - Most correlated unigrams:\\n-------> {}\".format('\\n-------> '.join(unigrams[-2:])))\n",
        "  print('~~~~~~~~~~~~~~')\n",
        "  print(\"  - Most correlated bigrams:\\n-------> {}\".format('\\n-------> '.join(bigrams[-2:])))\n",
        "  print('=============================')"
      ],
      "execution_count": 41,
      "outputs": [
        {
          "output_type": "stream",
          "text": [
            "# 'Bank account or service':\n",
            "  - Most correlated unigrams:\n",
            "-------> scottrade\n",
            "-------> bank\n",
            "~~~~~~~~~~~~~~\n",
            "  - Most correlated bigrams:\n",
            "-------> xx 2017\n",
            "-------> xx 2016\n",
            "=============================\n",
            "# 'Checking or savings account':\n",
            "  - Most correlated unigrams:\n",
            "-------> bank\n",
            "-------> funds\n",
            "~~~~~~~~~~~~~~\n",
            "  - Most correlated bigrams:\n",
            "-------> debit card\n",
            "-------> debt card\n",
            "=============================\n",
            "# 'Consumer Loan':\n",
            "  - Most correlated unigrams:\n",
            "-------> drivetime\n",
            "-------> ally\n",
            "~~~~~~~~~~~~~~\n",
            "  - Most correlated bigrams:\n",
            "-------> drive time\n",
            "-------> xxxx points\n",
            "=============================\n",
            "# 'Credit card':\n",
            "  - Most correlated unigrams:\n",
            "-------> macy\n",
            "-------> card\n",
            "~~~~~~~~~~~~~~\n",
            "  - Most correlated bigrams:\n",
            "-------> xx 2016\n",
            "-------> xx 2017\n",
            "=============================\n",
            "# 'Credit card or prepaid card':\n",
            "  - Most correlated unigrams:\n",
            "-------> card\n",
            "-------> capital\n",
            "~~~~~~~~~~~~~~\n",
            "  - Most correlated bigrams:\n",
            "-------> 2016 sure\n",
            "-------> verification capital\n",
            "=============================\n",
            "# 'Credit reporting':\n",
            "  - Most correlated unigrams:\n",
            "-------> equifax\n",
            "-------> experian\n",
            "~~~~~~~~~~~~~~\n",
            "  - Most correlated bigrams:\n",
            "-------> xxxx points\n",
            "-------> xxxx major\n",
            "=============================\n",
            "# 'Credit reporting, credit repair services, or other personal consumer reports':\n",
            "  - Most correlated unigrams:\n",
            "-------> freeze\n",
            "-------> bureaus\n",
            "~~~~~~~~~~~~~~\n",
            "  - Most correlated bigrams:\n",
            "-------> xxxx xxxx\n",
            "-------> ftc violations\n",
            "=============================\n",
            "# 'Debt collection':\n",
            "  - Most correlated unigrams:\n",
            "-------> debt\n",
            "-------> collection\n",
            "~~~~~~~~~~~~~~\n",
            "  - Most correlated bigrams:\n",
            "-------> desist 15\n",
            "-------> capital accounts\n",
            "=============================\n",
            "# 'Money transfer, virtual currency, or money service':\n",
            "  - Most correlated unigrams:\n",
            "-------> coinbase\n",
            "-------> paypal\n",
            "~~~~~~~~~~~~~~\n",
            "  - Most correlated bigrams:\n",
            "-------> cash app\n",
            "-------> google pay\n",
            "=============================\n",
            "# 'Money transfers':\n",
            "  - Most correlated unigrams:\n",
            "-------> moneygram\n",
            "-------> ebay\n",
            "~~~~~~~~~~~~~~\n",
            "  - Most correlated bigrams:\n",
            "-------> xx 2016\n",
            "-------> google wallet\n",
            "=============================\n",
            "# 'Mortgage':\n",
            "  - Most correlated unigrams:\n",
            "-------> mortgage\n",
            "-------> escrow\n",
            "~~~~~~~~~~~~~~\n",
            "  - Most correlated bigrams:\n",
            "-------> loan care\n",
            "-------> loan depot\n",
            "=============================\n",
            "# 'Other financial service':\n",
            "  - Most correlated unigrams:\n",
            "-------> fedloanhelp\n",
            "-------> certegy\n",
            "~~~~~~~~~~~~~~\n",
            "  - Most correlated bigrams:\n",
            "-------> check cashing\n",
            "-------> student services\n",
            "=============================\n",
            "# 'Payday loan':\n",
            "  - Most correlated unigrams:\n",
            "-------> lender\n",
            "-------> payday\n",
            "~~~~~~~~~~~~~~\n",
            "  - Most correlated bigrams:\n",
            "-------> received loan\n",
            "-------> click cash\n",
            "=============================\n",
            "# 'Payday loan, title loan, or personal loan':\n",
            "  - Most correlated unigrams:\n",
            "-------> loan\n",
            "-------> borrowed\n",
            "~~~~~~~~~~~~~~\n",
            "  - Most correlated bigrams:\n",
            "-------> line credit\n",
            "-------> title loan\n",
            "=============================\n",
            "# 'Prepaid card':\n",
            "  - Most correlated unigrams:\n",
            "-------> rushcard\n",
            "-------> prepaid\n",
            "~~~~~~~~~~~~~~\n",
            "  - Most correlated bigrams:\n",
            "-------> rush card\n",
            "-------> money card\n",
            "=============================\n",
            "# 'Student loan':\n",
            "  - Most correlated unigrams:\n",
            "-------> navient\n",
            "-------> nelnet\n",
            "~~~~~~~~~~~~~~\n",
            "  - Most correlated bigrams:\n",
            "-------> discover student\n",
            "-------> verification dept\n",
            "=============================\n",
            "# 'Vehicle loan or lease':\n",
            "  - Most correlated unigrams:\n",
            "-------> car\n",
            "-------> vehicle\n",
            "~~~~~~~~~~~~~~\n",
            "  - Most correlated bigrams:\n",
            "-------> new xxxx\n",
            "-------> personal property\n",
            "=============================\n",
            "# 'Virtual currency':\n",
            "  - Most correlated unigrams:\n",
            "-------> circle\n",
            "-------> signup\n",
            "~~~~~~~~~~~~~~\n",
            "  - Most correlated bigrams:\n",
            "-------> going transferred\n",
            "-------> said completed\n",
            "=============================\n"
          ],
          "name": "stdout"
        }
      ]
    },
    {
      "cell_type": "markdown",
      "metadata": {
        "id": "EZgZ-9CWtnRq",
        "colab_type": "text"
      },
      "source": [
        "## Manually test\n",
        "To make manually test, the y_test can't be numbers. Y_test will be a string containing a simple complaint narrative."
      ]
    },
    {
      "cell_type": "code",
      "metadata": {
        "id": "z5sPL5-KtH4w",
        "colab_type": "code",
        "colab": {}
      },
      "source": [
        "# Note that the X and Y will be the raw text.\n",
        "X_train1, _ , y_train1, _ = train_test_split(df['Consumer complaint narrative'], df['Product'], random_state = 24)\n",
        "# Here we will convert the text into tokens\n",
        "count_vect = CountVectorizer()\n",
        "X_train_counts = count_vect.fit_transform(X_train1)\n",
        "# Transform the tokens into TF-IDF representation\n",
        "tfidf_transformer = TfidfTransformer()\n",
        "X_train_tfidf = tfidf_transformer.fit_transform(X_train_counts)\n",
        "\n",
        "# Fit the classifier\n",
        "clf = LinearSVC().fit(X_train_tfidf, y_train1)"
      ],
      "execution_count": 0,
      "outputs": []
    },
    {
      "cell_type": "code",
      "metadata": {
        "id": "D3IdMGoVtwP0",
        "colab_type": "code",
        "outputId": "7cb3a018-3661-48b5-ee4a-24caafd0b967",
        "colab": {
          "base_uri": "https://localhost:8080/",
          "height": 34
        }
      },
      "source": [
        "# You can change the text to predict different produtcs\n",
        "complaint_narrative = \"I really want this car!\"\n",
        "print(clf.predict(count_vect.transform([complaint_narrative])))"
      ],
      "execution_count": 43,
      "outputs": [
        {
          "output_type": "stream",
          "text": [
            "['Vehicle loan or lease']\n"
          ],
          "name": "stdout"
        }
      ]
    }
  ]
}